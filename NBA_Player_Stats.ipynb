{
 "cells": [
  {
   "attachments": {},
   "cell_type": "markdown",
   "metadata": {},
   "source": [
    "# NBA Performance Insights (2021)\n",
    "# Author: Delery Harrison https://github.com/Delery5  \n",
    "# GitHub Page: https://github.com/Delery5/Delery5.github.io\n",
    "# This project analyzes NBA player statistics for the 2021 season using the player gamelogs dataset.\n"
   ]
  },
  {
   "cell_type": "markdown",
   "metadata": {},
   "source": [
    "# Project Description\n",
    "# This project aims to analyze the performance of NBA players during the 2021 season.\n",
    "# We will extract and clean data from the player gamelogs dataset and conduct exploratory data \n",
    "# analysis (EDA) to uncover insights about player performance.\n"
   ]
  },
  {
   "attachments": {},
   "cell_type": "markdown",
   "metadata": {},
   "source": [
    "# Data Sourcess\n",
    "# - [Kaggle - NBA Performance Insights (2017-2020)](https://www.kaggle.com/datasets/nathanlauga/nba-performance-insights-20172020)\n",
    "# - [player_gamelogs_2021.csv](data/player_gamelogs_2021.csv)\n"
   ]
  },
  {
   "cell_type": "markdown",
   "metadata": {},
   "source": [
    "# Project Goals\n",
    "#  - Load and clean the player gamelogs dataset for the 2021 season.\n",
    "#  - Perform exploratory data analysis to identify trends in player performance.\n",
    "#  - Visualize key statistics and insights using appropriate plots.\n"
   ]
  },
  {
   "cell_type": "code",
   "execution_count": 1,
   "metadata": {},
   "outputs": [
    {
     "name": "stdout",
     "output_type": "stream",
     "text": [
      "   Unnamed: 0 SEASON_YEAR  PLAYER_ID      PLAYER_NAME NICKNAME     TEAM_ID  \\\n",
      "0           0     2020-21    1628420     Monte Morris    Monte  1610612743   \n",
      "1           1     2020-21    1629630        Ja Morant       Ja  1610612763   \n",
      "2           2     2020-21     204456   T.J. McConnell     T.J.  1610612754   \n",
      "3           3     2020-21    1629130  Duncan Robinson   Duncan  1610612748   \n",
      "4           4     2020-21     101150     Lou Williams      Lou  1610612737   \n",
      "\n",
      "  TEAM_ABBREVIATION          TEAM_NAME   GAME_ID            GAME_DATE  ...  \\\n",
      "0               DEN     Denver Nuggets  22001076  2021-05-16T00:00:00  ...   \n",
      "1               MEM  Memphis Grizzlies  22001070  2021-05-16T00:00:00  ...   \n",
      "2               IND     Indiana Pacers  22001079  2021-05-16T00:00:00  ...   \n",
      "3               MIA         Miami Heat  22001069  2021-05-16T00:00:00  ...   \n",
      "4               ATL      Atlanta Hawks  22001066  2021-05-16T00:00:00  ...   \n",
      "\n",
      "  BLK_RANK BLKA_RANK  PF_RANK  PFD_RANK  PTS_RANK  PLUS_MINUS_RANK  \\\n",
      "0     7210         1     4919     16020     11759            18716   \n",
      "1     7210     15321     4919     10308      5102            21158   \n",
      "2     2271         1    10833     16020      7920             2707   \n",
      "3     2271         1    10833     10308     11759             4365   \n",
      "4     7210         1     4919     10308      8773             3055   \n",
      "\n",
      "   NBA_FANTASY_PTS_RANK  DD2_RANK  TD3_RANK  VIDEO_AVAILABLE_FLAG  \n",
      "0                 12968      1849       143                     1  \n",
      "1                  5016      1849       143                     1  \n",
      "2                   882         1       143                     1  \n",
      "3                 10534      1849       143                     1  \n",
      "4                 12054      1849       143                     1  \n",
      "\n",
      "[5 rows x 67 columns]\n",
      "<class 'pandas.core.frame.DataFrame'>\n",
      "RangeIndex: 23054 entries, 0 to 23053\n",
      "Data columns (total 67 columns):\n",
      " #   Column                Non-Null Count  Dtype  \n",
      "---  ------                --------------  -----  \n",
      " 0   Unnamed: 0            23054 non-null  int64  \n",
      " 1   SEASON_YEAR           23054 non-null  object \n",
      " 2   PLAYER_ID             23054 non-null  int64  \n",
      " 3   PLAYER_NAME           23054 non-null  object \n",
      " 4   NICKNAME              23054 non-null  object \n",
      " 5   TEAM_ID               23054 non-null  int64  \n",
      " 6   TEAM_ABBREVIATION     23054 non-null  object \n",
      " 7   TEAM_NAME             23054 non-null  object \n",
      " 8   GAME_ID               23054 non-null  int64  \n",
      " 9   GAME_DATE             23054 non-null  object \n",
      " 10  MATCHUP               23054 non-null  object \n",
      " 11  WL                    23054 non-null  object \n",
      " 12  MIN                   23054 non-null  float64\n",
      " 13  FGM                   23054 non-null  int64  \n",
      " 14  FGA                   23054 non-null  int64  \n",
      " 15  FG_PCT                23054 non-null  float64\n",
      " 16  FG3M                  23054 non-null  int64  \n",
      " 17  FG3A                  23054 non-null  int64  \n",
      " 18  FG3_PCT               23054 non-null  float64\n",
      " 19  FTM                   23054 non-null  int64  \n",
      " 20  FTA                   23054 non-null  int64  \n",
      " 21  FT_PCT                23054 non-null  float64\n",
      " 22  OREB                  23054 non-null  int64  \n",
      " 23  DREB                  23054 non-null  int64  \n",
      " 24  REB                   23054 non-null  int64  \n",
      " 25  AST                   23054 non-null  int64  \n",
      " 26  TOV                   23054 non-null  int64  \n",
      " 27  STL                   23054 non-null  int64  \n",
      " 28  BLK                   23054 non-null  int64  \n",
      " 29  BLKA                  23054 non-null  int64  \n",
      " 30  PF                    23054 non-null  int64  \n",
      " 31  PFD                   23054 non-null  int64  \n",
      " 32  PTS                   23054 non-null  int64  \n",
      " 33  PLUS_MINUS            23054 non-null  int64  \n",
      " 34  NBA_FANTASY_PTS       23054 non-null  float64\n",
      " 35  DD2                   23054 non-null  int64  \n",
      " 36  TD3                   23054 non-null  int64  \n",
      " 37  GP_RANK               23054 non-null  int64  \n",
      " 38  W_RANK                23054 non-null  int64  \n",
      " 39  L_RANK                23054 non-null  int64  \n",
      " 40  W_PCT_RANK            23054 non-null  int64  \n",
      " 41  MIN_RANK              23054 non-null  int64  \n",
      " 42  FGM_RANK              23054 non-null  int64  \n",
      " 43  FGA_RANK              23054 non-null  int64  \n",
      " 44  FG_PCT_RANK           23054 non-null  int64  \n",
      " 45  FG3M_RANK             23054 non-null  int64  \n",
      " 46  FG3A_RANK             23054 non-null  int64  \n",
      " 47  FG3_PCT_RANK          23054 non-null  int64  \n",
      " 48  FTM_RANK              23054 non-null  int64  \n",
      " 49  FTA_RANK              23054 non-null  int64  \n",
      " 50  FT_PCT_RANK           23054 non-null  int64  \n",
      " 51  OREB_RANK             23054 non-null  int64  \n",
      " 52  DREB_RANK             23054 non-null  int64  \n",
      " 53  REB_RANK              23054 non-null  int64  \n",
      " 54  AST_RANK              23054 non-null  int64  \n",
      " 55  TOV_RANK              23054 non-null  int64  \n",
      " 56  STL_RANK              23054 non-null  int64  \n",
      " 57  BLK_RANK              23054 non-null  int64  \n",
      " 58  BLKA_RANK             23054 non-null  int64  \n",
      " 59  PF_RANK               23054 non-null  int64  \n",
      " 60  PFD_RANK              23054 non-null  int64  \n",
      " 61  PTS_RANK              23054 non-null  int64  \n",
      " 62  PLUS_MINUS_RANK       23054 non-null  int64  \n",
      " 63  NBA_FANTASY_PTS_RANK  23054 non-null  int64  \n",
      " 64  DD2_RANK              23054 non-null  int64  \n",
      " 65  TD3_RANK              23054 non-null  int64  \n",
      " 66  VIDEO_AVAILABLE_FLAG  23054 non-null  int64  \n",
      "dtypes: float64(5), int64(54), object(8)\n",
      "memory usage: 11.8+ MB\n",
      "None\n"
     ]
    }
   ],
   "source": [
    "import pandas as pd\n",
    "\n",
    "# Load the dataset\n",
    "data = pd.read_csv('data/player_gamelogs_2021.csv')\n",
    "\n",
    "# Display the first few rows and check data types\n",
    "print(data.head())\n",
    "print(data.info())\n"
   ]
  },
  {
   "cell_type": "code",
   "execution_count": 2,
   "metadata": {},
   "outputs": [
    {
     "name": "stdout",
     "output_type": "stream",
     "text": [
      "Unnamed: 0              0\n",
      "SEASON_YEAR             0\n",
      "PLAYER_ID               0\n",
      "PLAYER_NAME             0\n",
      "NICKNAME                0\n",
      "                       ..\n",
      "PLUS_MINUS_RANK         0\n",
      "NBA_FANTASY_PTS_RANK    0\n",
      "DD2_RANK                0\n",
      "TD3_RANK                0\n",
      "VIDEO_AVAILABLE_FLAG    0\n",
      "Length: 67, dtype: int64\n"
     ]
    }
   ],
   "source": [
    "# Check for missing values and handle them\n",
    "print(data.isnull().sum())\n",
    "\n",
    "# Drop rows with missing values\n",
    "data = data.dropna()\n",
    "\n",
    "# Check for duplicates\n",
    "data = data.drop_duplicates()\n"
   ]
  },
  {
   "cell_type": "code",
   "execution_count": 4,
   "metadata": {},
   "outputs": [
    {
     "name": "stdout",
     "output_type": "stream",
     "text": [
      "Top 5 Scorers:\n",
      " PLAYER_NAME\n",
      "Stephen Curry            31.984127\n",
      "Bradley Beal             31.300000\n",
      "Damian Lillard           28.776119\n",
      "Joel Embiid              28.450980\n",
      "Giannis Antetokounmpo    28.147541\n",
      "Name: PTS, dtype: float64\n"
     ]
    },
    {
     "data": {
      "image/png": "[encoded data removed]",
      "text/plain": [
       "<Figure size 1000x600 with 1 Axes>"
      ]
     },
     "metadata": {},
     "output_type": "display_data"
    }
   ],
   "source": [
    "# Top 5 scorers\n",
    "top_scorers = data.groupby('PLAYER_NAME')['PTS'].mean().nlargest(5)\n",
    "print(\"Top 5 Scorers:\\n\", top_scorers)\n",
    "\n",
    "# Distribution of assists\n",
    "import matplotlib.pyplot as plt\n",
    "import seaborn as sns\n",
    "\n",
    "plt.figure(figsize=(10, 6))\n",
    "sns.histplot(data['AST'], bins=20, kde=True)\n",
    "plt.title('Distribution of Assists Per Game')\n",
    "plt.xlabel('Assists')\n",
    "plt.ylabel('Frequency')\n",
    "plt.show()\n"
   ]
  },
  {
   "cell_type": "markdown",
   "metadata": {},
   "source": [
    "## Summary of Findings\n",
    "# 1. The top scorers in the 2021 season demonstrated significant average points per game.\n",
    "# 2. The distribution of assists showed interesting patterns, indicating trends in playmaking efficiency among players.\n",
    "# 3. Further exploration could include comparisons with previous seasons or other statistical measures.\n"
   ]
  }
 ],
 "metadata": {
  "kernelspec": {
   "display_name": "Python 3",
   "language": "python",
   "name": "python3"
  },
  "language_info": {
   "codemirror_mode": {
    "name": "ipython",
    "version": 3
   },
   "file_extension": ".py",
   "mimetype": "text/x-python",
   "name": "python",
   "nbconvert_exporter": "python",
   "pygments_lexer": "ipython3",
   "version": "3.9.7"
  },
  "orig_nbformat": 4
 },
 "nbformat": 4,
 "nbformat_minor": 2
}
